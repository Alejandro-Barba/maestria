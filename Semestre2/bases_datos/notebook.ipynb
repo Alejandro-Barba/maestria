{
 "cells": [
  {
   "cell_type": "code",
   "execution_count": 2,
   "metadata": {},
   "outputs": [],
   "source": [
    "import pandas as pd\n",
    "import os\n",
    "import glob"
   ]
  },
  {
   "cell_type": "code",
   "execution_count": 14,
   "metadata": {},
   "outputs": [],
   "source": [
    "# function that read all excel files in a folder create a dataframe for ach one and print the head of each one\n",
    "def read_all_excel_files_and_print_head(folder_path):\n",
    "    all_files = glob.glob(folder_path + \"*.xlsx\")\n",
    "    for file in all_files:\n",
    "        df = pd.read_excel(file)\n",
    "        print(df.columns)\n",
    "        print(file)\n"
   ]
  },
  {
   "cell_type": "code",
   "execution_count": 15,
   "metadata": {},
   "outputs": [
    {
     "name": "stdout",
     "output_type": "stream",
     "text": [
      "Index(['FECHA', 'CLAVE_EST', 'PARAMETRO', 'HORA01', 'HORA02', 'HORA03',\n",
      "       'HORA04', 'HORA05', 'HORA06', 'HORA07', 'HORA08', 'HORA09', 'HORA10',\n",
      "       'HORA11', 'HORA12', 'HORA13', 'HORA14', 'HORA15', 'HORA16', 'HORA17',\n",
      "       'HORA18', 'HORA19', 'HORA20', 'HORA21', 'HORA22', 'HORA23', 'HORA24'],\n",
      "      dtype='object')\n",
      "data/gdl/datos_2008.xlsx\n",
      "Index(['FECHA', 'CLAVE_EST', 'PARAMETRO', 'HORA01', 'HORA02', 'HORA03',\n",
      "       'HORA04', 'HORA05', 'HORA06', 'HORA07', 'HORA08', 'HORA09', 'HORA10',\n",
      "       'HORA11', 'HORA12', 'HORA13', 'HORA14', 'HORA15', 'HORA16', 'HORA17',\n",
      "       'HORA18', 'HORA19', 'HORA20', 'HORA21', 'HORA22', 'HORA23', 'HORA24'],\n",
      "      dtype='object')\n",
      "data/gdl/datos_2004.xlsx\n",
      "Index(['Date', 'Time', '1:O3', '3:NO2', '5:SO2', '6:CO', '7:PM10', 'TMP', 'HR',\n",
      "       'WS', '12:WD'],\n",
      "      dtype='object')\n",
      "data/gdl/datos_2012.xlsx\n",
      "Index(['Fecha', 'Hora', 'O3', 'NO', 'NO2', 'NOX', 'SO2', 'CO', 'PM10',\n",
      "       'Temp Ext', 'RH', 'WS', 'WD'],\n",
      "      dtype='object')\n",
      "data/gdl/datos_2013.xlsx\n",
      "Index(['FECHA', 'CLAVE_EST', 'PARAMETRO', 'HORA01', 'HORA02', 'HORA03',\n",
      "       'HORA04', 'HORA05', 'HORA06', 'HORA07', 'HORA08', 'HORA09', 'HORA10',\n",
      "       'HORA11', 'HORA12', 'HORA13', 'HORA14', 'HORA15', 'HORA16', 'HORA17',\n",
      "       'HORA18', 'HORA19', 'HORA20', 'HORA21', 'HORA22', 'HORA23', 'HORA24'],\n",
      "      dtype='object')\n",
      "data/gdl/datos_2005.xlsx\n",
      "Index(['FECHA', 'CLAVE_EST', 'PARAMETRO', 'HORA01', 'HORA02', 'HORA03',\n",
      "       'HORA04', 'HORA05', 'HORA06', 'HORA07', 'HORA08', 'HORA09', 'HORA10',\n",
      "       'HORA11', 'HORA12', 'HORA13', 'HORA14', 'HORA15', 'HORA16', 'HORA17',\n",
      "       'HORA18', 'HORA19', 'HORA20', 'HORA21', 'HORA22', 'HORA23', 'HORA24'],\n",
      "      dtype='object')\n",
      "data/gdl/datos_2009.xlsx\n",
      "Index(['FECHA', 'CLAVE_EST', 'PARAMETRO', 'HORA01', 'HORA02', 'HORA03',\n",
      "       'HORA04', 'HORA05', 'HORA06', 'HORA07', 'HORA08', 'HORA09', 'HORA10',\n",
      "       'HORA11', 'HORA12', 'HORA13', 'HORA14', 'HORA15', 'HORA16', 'HORA17',\n",
      "       'HORA18', 'HORA19', 'HORA20', 'HORA21', 'HORA22', 'HORA23', 'HORA24'],\n",
      "      dtype='object')\n",
      "data/gdl/datos_2002.xlsx\n",
      "Index(['Fecha', 'Hora', 'O3', 'NO', 'NO2', 'NOX', 'SO2', 'CO', 'PM10',\n",
      "       'Temp Ext', 'RH', 'WS', 'WD', 'Pr', 'Unnamed: 14', 'Unnamed: 15',\n",
      "       'Unnamed: 16', 'Unnamed: 17'],\n",
      "      dtype='object')\n",
      "data/gdl/datos_2014.xlsx\n",
      "Index(['FECHA', 'HORA', 'Ozono', 'NO', 'NO2', 'Nox', 'SO2', 'CO', 'PM10',\n",
      "       'Temp Ext', 'RH', 'WS', 'WD', 'Precipíta', 'RadSolar'],\n",
      "      dtype='object')\n",
      "data/gdl/datos_2018.xlsx\n",
      "Index(['Estación', 'Fecha', 'Hora', 'O3', 'NO', 'NO2 ', 'NOX ', 'SO2', 'CO ',\n",
      "       'PM10 ', 'PM 2.5', 'Temp Int ', 'Temp Ext', 'RH ', 'WS', 'WD',\n",
      "       'Precipitación', 'Presión Barometrica', 'Radiación Solar '],\n",
      "      dtype='object')\n",
      "data/gdl/datos_2019.xlsx\n",
      "Index(['Fecha', 'Hora', 'CO', 'NO2', 'O3', 'PM10', 'SO2',\n",
      "       'Temperatura exterior', 'RH', 'WS', 'WD', 'Precipitación'],\n",
      "      dtype='object')\n",
      "data/gdl/datos_2015.xlsx\n",
      "Index(['FECHA', 'CLAVE_EST', 'PARAMETRO', 'HORA01', 'HORA02', 'HORA03',\n",
      "       'HORA04', 'HORA05', 'HORA06', 'HORA07', 'HORA08', 'HORA09', 'HORA10',\n",
      "       'HORA11', 'HORA12', 'HORA13', 'HORA14', 'HORA15', 'HORA16', 'HORA17',\n",
      "       'HORA18', 'HORA19', 'HORA20', 'HORA21', 'HORA22', 'HORA23', 'HORA24'],\n",
      "      dtype='object')\n",
      "data/gdl/datos_2003.xlsx\n",
      "Index(['Fecha', 'Hora', 'CO', 'NO2', 'O3', 'PM10', 'SO2', 'Temperatura',\n",
      "       'Humedad relativa ', 'Velocidad de viento ', 'Dirección de vientos '],\n",
      "      dtype='object')\n",
      "data/gdl/datos_2016.xlsx\n",
      "Index(['FECHA', 'CLAVE_EST', 'PARAMETRO', 'HORA01', 'HORA02', 'HORA03',\n",
      "       'HORA04', 'HORA05', 'HORA06', 'HORA07', 'HORA08', 'HORA09', 'HORA10',\n",
      "       'HORA11', 'HORA12', 'HORA13', 'HORA14', 'HORA15', 'HORA16', 'HORA17',\n",
      "       'HORA18', 'HORA19', 'HORA20', 'HORA21', 'HORA22', 'HORA23', 'HORA24'],\n",
      "      dtype='object')\n",
      "data/gdl/datos_2000.xlsx\n"
     ]
    },
    {
     "name": "stderr",
     "output_type": "stream",
     "text": [
      "/Library/Frameworks/Python.framework/Versions/3.11/lib/python3.11/site-packages/openpyxl/worksheet/_reader.py:329: UserWarning: Conditional Formatting extension is not supported and will be removed\n",
      "  warn(msg)\n"
     ]
    },
    {
     "name": "stdout",
     "output_type": "stream",
     "text": [
      "Index(['ESTACIÓN', 'FECHA', 'HORA', 'O3', 'NO', 'NO2', 'NOX', 'SO2', 'CO',\n",
      "       'PM10', 'PM2.5', 'TMPI', 'TMP', 'RH', 'WS', 'WD', 'PP', 'RS', 'PBA',\n",
      "       'UVI'],\n",
      "      dtype='object')\n",
      "data/gdl/datos_2020.xlsx\n",
      "Index(['Estación SIMAJ', 'Fecha', 'Hora', 'O3', 'NO', 'NO2', 'NOX', 'SO2',\n",
      "       'CO', 'PM10', 'PM2.5', 'TMPI', 'TMP', 'RH', 'WS', 'WD', 'PP', 'RS',\n",
      "       'PBA', 'UV', 'UVI'],\n",
      "      dtype='object')\n",
      "data/gdl/datos_2021.xlsx\n",
      "Index(['FECHA', 'CLAVE_EST', 'PARAMETRO', 'HORA01', 'HORA02', 'HORA03',\n",
      "       'HORA04', 'HORA05', 'HORA06', 'HORA07', 'HORA08', 'HORA09', 'HORA10',\n",
      "       'HORA11', 'HORA12', 'HORA13', 'HORA14', 'HORA15', 'HORA16', 'HORA17',\n",
      "       'HORA18', 'HORA19', 'HORA20', 'HORA21', 'HORA22', 'HORA23', 'HORA24'],\n",
      "      dtype='object')\n",
      "data/gdl/datos_2001.xlsx\n"
     ]
    },
    {
     "name": "stderr",
     "output_type": "stream",
     "text": [
      "/Library/Frameworks/Python.framework/Versions/3.11/lib/python3.11/site-packages/openpyxl/worksheet/_reader.py:329: UserWarning: Unknown extension is not supported and will be removed\n",
      "  warn(msg)\n",
      "/Library/Frameworks/Python.framework/Versions/3.11/lib/python3.11/site-packages/openpyxl/worksheet/_reader.py:329: UserWarning: Conditional Formatting extension is not supported and will be removed\n",
      "  warn(msg)\n"
     ]
    },
    {
     "name": "stdout",
     "output_type": "stream",
     "text": [
      "Index(['Fecha', 'Hora', 'O3', 'NO', 'NO2', 'NOX', 'SO2', 'CO', 'PM10',\n",
      "       'PM 2.5', 'Temp Ext', 'RH', 'WS', 'WD', 'Precipitacion', 'Rad Solar'],\n",
      "      dtype='object')\n",
      "data/gdl/datos_2017.xlsx\n",
      "Index(['FECHA', 'CLAVE_EST', 'PARAMETRO', 'HORA01', 'HORA02', 'HORA03',\n",
      "       'HORA04', 'HORA05', 'HORA06', 'HORA07', 'HORA08', 'HORA09', 'HORA10',\n",
      "       'HORA11', 'HORA12', 'HORA13', 'HORA14', 'HORA15', 'HORA16', 'HORA17',\n",
      "       'HORA18', 'HORA19', 'HORA20', 'HORA21', 'HORA22', 'HORA23', 'HORA24'],\n",
      "      dtype='object')\n",
      "data/gdl/datos_2010.xlsx\n",
      "Index(['FECHA', 'CLAVE_EST', 'PARAMETRO', 'HORA01', 'HORA02', 'HORA03',\n",
      "       'HORA04', 'HORA05', 'HORA06', 'HORA07', 'HORA08', 'HORA09', 'HORA10',\n",
      "       'HORA11', 'HORA12', 'HORA13', 'HORA14', 'HORA15', 'HORA16', 'HORA17',\n",
      "       'HORA18', 'HORA19', 'HORA20', 'HORA21', 'HORA22', 'HORA23', 'HORA24'],\n",
      "      dtype='object')\n",
      "data/gdl/datos_2006.xlsx\n",
      "Index(['FECHA', 'CLAVE_EST', 'PARAMETRO', 'HORA01', 'HORA02', 'HORA03',\n",
      "       'HORA04', 'HORA05', 'HORA06', 'HORA07', 'HORA08', 'HORA09', 'HORA10',\n",
      "       'HORA11', 'HORA12', 'HORA13', 'HORA14', 'HORA15', 'HORA16', 'HORA17',\n",
      "       'HORA18', 'HORA19', 'HORA20', 'HORA21', 'HORA22', 'HORA23', 'HORA24'],\n",
      "      dtype='object')\n",
      "data/gdl/datos_2007.xlsx\n",
      "Index(['FECHA', 'CLAVE_EST', 'PARAMETRO', 'INVALIDA', 'HORA01', 'HORA02',\n",
      "       'HORA03', 'HORA04', 'HORA05', 'HORA06', 'HORA07', 'HORA08', 'HORA09',\n",
      "       'HORA10', 'HORA11', 'HORA12', 'HORA13', 'HORA14', 'HORA15', 'HORA16',\n",
      "       'HORA17', 'HORA18', 'HORA19', 'HORA20', 'HORA21', 'HORA22', 'HORA23',\n",
      "       'HORA24'],\n",
      "      dtype='object')\n",
      "data/gdl/datos_2011.xlsx\n"
     ]
    }
   ],
   "source": [
    "folder_path = \"data/gdl/\"\n",
    "_ = read_all_excel_files_and_print_head(folder_path)"
   ]
  },
  {
   "cell_type": "code",
   "execution_count": null,
   "metadata": {},
   "outputs": [],
   "source": []
  },
  {
   "cell_type": "code",
   "execution_count": 4,
   "metadata": {},
   "outputs": [],
   "source": [
    "# function that read all excel files in a folder, and join them in a single dataframe\n",
    "folder_path = \"data/gdl/\"\n",
    "\n",
    "\n",
    "def read_all_excel_files(folder_path):\n",
    "    all_files = glob.glob(folder_path + \"*.xlsx\")\n",
    "    df_list = []\n",
    "    for file in all_files:\n",
    "        df = pd.read_excel(file)\n",
    "        df_list.append(df)\n",
    "    return pd.concat(df_list)\n"
   ]
  },
  {
   "cell_type": "code",
   "execution_count": 5,
   "metadata": {},
   "outputs": [
    {
     "name": "stderr",
     "output_type": "stream",
     "text": [
      "/Library/Frameworks/Python.framework/Versions/3.11/lib/python3.11/site-packages/openpyxl/worksheet/_reader.py:329: UserWarning: Conditional Formatting extension is not supported and will be removed\n",
      "  warn(msg)\n",
      "/Library/Frameworks/Python.framework/Versions/3.11/lib/python3.11/site-packages/openpyxl/worksheet/_reader.py:329: UserWarning: Unknown extension is not supported and will be removed\n",
      "  warn(msg)\n",
      "/Library/Frameworks/Python.framework/Versions/3.11/lib/python3.11/site-packages/openpyxl/worksheet/_reader.py:329: UserWarning: Conditional Formatting extension is not supported and will be removed\n",
      "  warn(msg)\n"
     ]
    }
   ],
   "source": [
    "joined_df = read_all_excel_files(folder_path)"
   ]
  },
  {
   "cell_type": "code",
   "execution_count": 6,
   "metadata": {},
   "outputs": [
    {
     "name": "stdout",
     "output_type": "stream",
     "text": [
      "       FECHA CLAVE_EST PARAMETRO HORA01 HORA02 HORA03 HORA04 HORA05 HORA06   \n",
      "0 2008-01-01       AGU        CO    3.6    4.1    3.5    3.4    3.1    2.3  \\\n",
      "1 2008-01-01       AGU       NO2    0.0    0.0    0.0    0.0    0.0    0.0   \n",
      "2 2008-01-01       AGU       NOX    0.0    0.0    0.0    0.0    0.0    0.0   \n",
      "3 2008-01-01       AGU        O3    0.0    0.0    0.0    0.0    0.0    0.0   \n",
      "4 2008-01-01       AGU      PM10   77.8   83.1   80.0   61.3   85.8   37.2   \n",
      "\n",
      "  HORA07  ... TMPI   PP   RS  PBA  UVI Estación SIMAJ  UV Precipitacion   \n",
      "0    2.3  ...  NaN  NaN  NaN  NaN  NaN            NaN NaN           NaN  \\\n",
      "1    0.0  ...  NaN  NaN  NaN  NaN  NaN            NaN NaN           NaN   \n",
      "2    0.0  ...  NaN  NaN  NaN  NaN  NaN            NaN NaN           NaN   \n",
      "3    0.0  ...  NaN  NaN  NaN  NaN  NaN            NaN NaN           NaN   \n",
      "4   31.4  ...  NaN  NaN  NaN  NaN  NaN            NaN NaN           NaN   \n",
      "\n",
      "  Rad Solar INVALIDA  \n",
      "0       NaN      NaN  \n",
      "1       NaN      NaN  \n",
      "2       NaN      NaN  \n",
      "3       NaN      NaN  \n",
      "4       NaN      NaN  \n",
      "\n",
      "[5 rows x 88 columns]\n"
     ]
    }
   ],
   "source": [
    "print(joined_df.head())"
   ]
  },
  {
   "cell_type": "code",
   "execution_count": null,
   "metadata": {},
   "outputs": [],
   "source": []
  }
 ],
 "metadata": {
  "kernelspec": {
   "display_name": "Python 3",
   "language": "python",
   "name": "python3"
  },
  "language_info": {
   "codemirror_mode": {
    "name": "ipython",
    "version": 3
   },
   "file_extension": ".py",
   "mimetype": "text/x-python",
   "name": "python",
   "nbconvert_exporter": "python",
   "pygments_lexer": "ipython3",
   "version": "3.11.2"
  },
  "orig_nbformat": 4
 },
 "nbformat": 4,
 "nbformat_minor": 2
}
