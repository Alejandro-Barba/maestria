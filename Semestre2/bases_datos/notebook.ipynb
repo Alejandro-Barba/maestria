{
 "cells": [
  {
   "cell_type": "code",
   "execution_count": 2,
   "metadata": {},
   "outputs": [],
   "source": [
    "import pandas as pd\n",
    "import os\n",
    "import glob"
   ]
  },
  {
   "cell_type": "code",
   "execution_count": 32,
   "metadata": {},
   "outputs": [],
   "source": [
    "# function that read all excel files in a folder create a dataframe for ach one and print the head of each one\n",
    "def read_all_excel_files_and_print_head(folder_path, name):\n",
    "    all_files = glob.glob(folder_path + \"*\"+ name +\"*.xls\")\n",
    "    print(all_files)\n",
    "    for file in all_files:\n",
    "        #df = pd.read_excel(file)\n",
    "        #print(df.columns)\n",
    "        print(file)\n"
   ]
  },
  {
   "cell_type": "code",
   "execution_count": 58,
   "metadata": {},
   "outputs": [],
   "source": [
    "# function that read all excel files in a folder create a dataframe for ach one and print the head of each one\n",
    "def read_all_csv_files_and_print_cols(folder_path):\n",
    "    all_files = glob.glob(folder_path + \"*.csv\")\n",
    "    print(all_files)\n",
    "    for file in all_files:\n",
    "        #df = pd.read_excel(file)\n",
    "        #print(df.columns)\n",
    "        print(file)\n"
   ]
  },
  {
   "cell_type": "code",
   "execution_count": 59,
   "metadata": {},
   "outputs": [
    {
     "name": "stdout",
     "output_type": "stream",
     "text": [
      "['data/clean_cdmx\\\\CO.csv', 'data/clean_cdmx\\\\NO2.csv', 'data/clean_cdmx\\\\O3.csv', 'data/clean_cdmx\\\\PM10.csv']\n",
      "data/clean_cdmx\\CO.csv\n",
      "data/clean_cdmx\\NO2.csv\n",
      "data/clean_cdmx\\O3.csv\n",
      "data/clean_cdmx\\PM10.csv\n"
     ]
    }
   ],
   "source": [
    "folder_path = \"data/clean_cdmx/\"\n",
    "name = 'CO'\n",
    "_ = read_all_csv_files_and_print_cols(folder_path)"
   ]
  },
  {
   "cell_type": "code",
   "execution_count": 34,
   "metadata": {},
   "outputs": [],
   "source": [
    "def read_xls_files(folder_path,name):\n",
    "    # Get a list of all .xls files in the folder\n",
    "    file_list = glob.glob(folder_path + \"*\"+ name +\"*.xls\")\n",
    "\n",
    "    # Initialize an empty list to hold the dataframes\n",
    "    df_list = []\n",
    "\n",
    "    # Loop through each file in the file list\n",
    "    for file in file_list:\n",
    "        # Read the Excel file into a dataframe\n",
    "        df = pd.read_excel(file)\n",
    "\n",
    "        # Append the dataframe to the list\n",
    "        df_list.append(df)\n",
    "\n",
    "    # Concatenate all the dataframes into a single dataframe\n",
    "    combined_df = pd.concat(df_list, ignore_index=True, sort=False)\n",
    "\n",
    "    # Return the combined dataframe\n",
    "    return combined_df"
   ]
  },
  {
   "cell_type": "code",
   "execution_count": 54,
   "metadata": {},
   "outputs": [],
   "source": [
    "folder_path = \"data/clean_cdmx/O3/\"\n",
    "name = 'CO'\n",
    "\n",
    "df = read_xls_files(folder_path, name)\n",
    "df['Variable'] = name"
   ]
  },
  {
   "cell_type": "code",
   "execution_count": 55,
   "metadata": {},
   "outputs": [
    {
     "data": {
      "text/plain": [
       "Index(['FECHA', 'HORA', 'LAG', 'TAC', 'FAC', 'TLA', 'XAL', 'MER', 'PED', 'CES',\n",
       "       'PLA', 'HAN', 'UIZ', 'ARA', 'IMP', 'BJU', 'TAX', 'MIN', 'TLI', 'ATI',\n",
       "       'VIF', 'SAG', 'VAL', 'AZC', 'SUR', 'IZT', 'CHO', 'ACO', 'CAM', 'CUA',\n",
       "       'LLA', 'LPR', 'MON', 'NEZ', 'SJA', 'TAH', 'TPN', 'HGM', 'SFE', 'UAX',\n",
       "       'CCA', 'AJM', 'INN', 'MGH', 'MPA', 'CUT', 'FAR', 'SAC', 'Variable'],\n",
       "      dtype='object')"
      ]
     },
     "execution_count": 55,
     "metadata": {},
     "output_type": "execute_result"
    }
   ],
   "source": [
    "df.columns"
   ]
  },
  {
   "cell_type": "code",
   "execution_count": 56,
   "metadata": {},
   "outputs": [
    {
     "data": {
      "text/html": [
       "<div>\n",
       "<style scoped>\n",
       "    .dataframe tbody tr th:only-of-type {\n",
       "        vertical-align: middle;\n",
       "    }\n",
       "\n",
       "    .dataframe tbody tr th {\n",
       "        vertical-align: top;\n",
       "    }\n",
       "\n",
       "    .dataframe thead th {\n",
       "        text-align: right;\n",
       "    }\n",
       "</style>\n",
       "<table border=\"1\" class=\"dataframe\">\n",
       "  <thead>\n",
       "    <tr style=\"text-align: right;\">\n",
       "      <th></th>\n",
       "      <th>FECHA</th>\n",
       "      <th>HORA</th>\n",
       "      <th>LAG</th>\n",
       "      <th>TAC</th>\n",
       "      <th>FAC</th>\n",
       "      <th>TLA</th>\n",
       "      <th>XAL</th>\n",
       "      <th>MER</th>\n",
       "      <th>PED</th>\n",
       "      <th>CES</th>\n",
       "      <th>...</th>\n",
       "      <th>UAX</th>\n",
       "      <th>CCA</th>\n",
       "      <th>AJM</th>\n",
       "      <th>INN</th>\n",
       "      <th>MGH</th>\n",
       "      <th>MPA</th>\n",
       "      <th>CUT</th>\n",
       "      <th>FAR</th>\n",
       "      <th>SAC</th>\n",
       "      <th>Variable</th>\n",
       "    </tr>\n",
       "  </thead>\n",
       "  <tbody>\n",
       "    <tr>\n",
       "      <th>0</th>\n",
       "      <td>2000-01-01</td>\n",
       "      <td>1</td>\n",
       "      <td>2.3</td>\n",
       "      <td>1.0</td>\n",
       "      <td>-99.0</td>\n",
       "      <td>3.7</td>\n",
       "      <td>6.2</td>\n",
       "      <td>2.8</td>\n",
       "      <td>1.6</td>\n",
       "      <td>2.6</td>\n",
       "      <td>...</td>\n",
       "      <td>NaN</td>\n",
       "      <td>NaN</td>\n",
       "      <td>NaN</td>\n",
       "      <td>NaN</td>\n",
       "      <td>NaN</td>\n",
       "      <td>NaN</td>\n",
       "      <td>NaN</td>\n",
       "      <td>NaN</td>\n",
       "      <td>NaN</td>\n",
       "      <td>CO</td>\n",
       "    </tr>\n",
       "    <tr>\n",
       "      <th>1</th>\n",
       "      <td>2000-01-01</td>\n",
       "      <td>2</td>\n",
       "      <td>2.3</td>\n",
       "      <td>2.0</td>\n",
       "      <td>-99.0</td>\n",
       "      <td>2.6</td>\n",
       "      <td>6.5</td>\n",
       "      <td>2.8</td>\n",
       "      <td>1.3</td>\n",
       "      <td>2.9</td>\n",
       "      <td>...</td>\n",
       "      <td>NaN</td>\n",
       "      <td>NaN</td>\n",
       "      <td>NaN</td>\n",
       "      <td>NaN</td>\n",
       "      <td>NaN</td>\n",
       "      <td>NaN</td>\n",
       "      <td>NaN</td>\n",
       "      <td>NaN</td>\n",
       "      <td>NaN</td>\n",
       "      <td>CO</td>\n",
       "    </tr>\n",
       "    <tr>\n",
       "      <th>2</th>\n",
       "      <td>2000-01-01</td>\n",
       "      <td>3</td>\n",
       "      <td>1.8</td>\n",
       "      <td>1.8</td>\n",
       "      <td>-99.0</td>\n",
       "      <td>3.1</td>\n",
       "      <td>6.3</td>\n",
       "      <td>2.9</td>\n",
       "      <td>1.4</td>\n",
       "      <td>3.1</td>\n",
       "      <td>...</td>\n",
       "      <td>NaN</td>\n",
       "      <td>NaN</td>\n",
       "      <td>NaN</td>\n",
       "      <td>NaN</td>\n",
       "      <td>NaN</td>\n",
       "      <td>NaN</td>\n",
       "      <td>NaN</td>\n",
       "      <td>NaN</td>\n",
       "      <td>NaN</td>\n",
       "      <td>CO</td>\n",
       "    </tr>\n",
       "    <tr>\n",
       "      <th>3</th>\n",
       "      <td>2000-01-01</td>\n",
       "      <td>4</td>\n",
       "      <td>2.3</td>\n",
       "      <td>1.7</td>\n",
       "      <td>-99.0</td>\n",
       "      <td>3.4</td>\n",
       "      <td>6.6</td>\n",
       "      <td>2.8</td>\n",
       "      <td>1.9</td>\n",
       "      <td>2.8</td>\n",
       "      <td>...</td>\n",
       "      <td>NaN</td>\n",
       "      <td>NaN</td>\n",
       "      <td>NaN</td>\n",
       "      <td>NaN</td>\n",
       "      <td>NaN</td>\n",
       "      <td>NaN</td>\n",
       "      <td>NaN</td>\n",
       "      <td>NaN</td>\n",
       "      <td>NaN</td>\n",
       "      <td>CO</td>\n",
       "    </tr>\n",
       "    <tr>\n",
       "      <th>4</th>\n",
       "      <td>2000-01-01</td>\n",
       "      <td>5</td>\n",
       "      <td>3.1</td>\n",
       "      <td>1.5</td>\n",
       "      <td>-99.0</td>\n",
       "      <td>3.6</td>\n",
       "      <td>9.7</td>\n",
       "      <td>3.4</td>\n",
       "      <td>1.8</td>\n",
       "      <td>3.5</td>\n",
       "      <td>...</td>\n",
       "      <td>NaN</td>\n",
       "      <td>NaN</td>\n",
       "      <td>NaN</td>\n",
       "      <td>NaN</td>\n",
       "      <td>NaN</td>\n",
       "      <td>NaN</td>\n",
       "      <td>NaN</td>\n",
       "      <td>NaN</td>\n",
       "      <td>NaN</td>\n",
       "      <td>CO</td>\n",
       "    </tr>\n",
       "  </tbody>\n",
       "</table>\n",
       "<p>5 rows × 49 columns</p>\n",
       "</div>"
      ],
      "text/plain": [
       "       FECHA  HORA  LAG  TAC   FAC  TLA  XAL  MER  PED  CES  ...  UAX  CCA   \n",
       "0 2000-01-01     1  2.3  1.0 -99.0  3.7  6.2  2.8  1.6  2.6  ...  NaN  NaN  \\\n",
       "1 2000-01-01     2  2.3  2.0 -99.0  2.6  6.5  2.8  1.3  2.9  ...  NaN  NaN   \n",
       "2 2000-01-01     3  1.8  1.8 -99.0  3.1  6.3  2.9  1.4  3.1  ...  NaN  NaN   \n",
       "3 2000-01-01     4  2.3  1.7 -99.0  3.4  6.6  2.8  1.9  2.8  ...  NaN  NaN   \n",
       "4 2000-01-01     5  3.1  1.5 -99.0  3.6  9.7  3.4  1.8  3.5  ...  NaN  NaN   \n",
       "\n",
       "   AJM  INN  MGH  MPA  CUT  FAR  SAC  Variable  \n",
       "0  NaN  NaN  NaN  NaN  NaN  NaN  NaN        CO  \n",
       "1  NaN  NaN  NaN  NaN  NaN  NaN  NaN        CO  \n",
       "2  NaN  NaN  NaN  NaN  NaN  NaN  NaN        CO  \n",
       "3  NaN  NaN  NaN  NaN  NaN  NaN  NaN        CO  \n",
       "4  NaN  NaN  NaN  NaN  NaN  NaN  NaN        CO  \n",
       "\n",
       "[5 rows x 49 columns]"
      ]
     },
     "execution_count": 56,
     "metadata": {},
     "output_type": "execute_result"
    }
   ],
   "source": [
    "df.head()"
   ]
  },
  {
   "cell_type": "code",
   "execution_count": 57,
   "metadata": {},
   "outputs": [],
   "source": [
    "df.to_csv('CO.csv', index=False)"
   ]
  },
  {
   "cell_type": "code",
   "execution_count": 60,
   "metadata": {},
   "outputs": [],
   "source": [
    "def join_csv_files(folder_path):\n",
    "    # Get a list of all .xls files in the folder\n",
    "    file_list = glob.glob(folder_path  +\"*.csv\")\n",
    "\n",
    "    # Initialize an empty list to hold the dataframes\n",
    "    df_list = []\n",
    "\n",
    "    # Loop through each file in the file list\n",
    "    for file in file_list:\n",
    "        # Read the Excel file into a dataframe\n",
    "        df = pd.read_csv(file)\n",
    "\n",
    "        # Append the dataframe to the list\n",
    "        df_list.append(df)\n",
    "\n",
    "    # Concatenate all the dataframes into a single dataframe\n",
    "    combined_df = pd.concat(df_list, ignore_index=True, sort=False)\n",
    "\n",
    "    # Return the combined dataframe\n",
    "    return combined_df"
   ]
  },
  {
   "cell_type": "code",
   "execution_count": 62,
   "metadata": {},
   "outputs": [
    {
     "data": {
      "text/plain": [
       "Index(['FECHA', 'HORA', 'LAG', 'TAC', 'FAC', 'TLA', 'XAL', 'MER', 'PED', 'CES',\n",
       "       'PLA', 'HAN', 'UIZ', 'ARA', 'IMP', 'BJU', 'TAX', 'MIN', 'TLI', 'ATI',\n",
       "       'VIF', 'SAG', 'VAL', 'AZC', 'SUR', 'IZT', 'CHO', 'ACO', 'CAM', 'CUA',\n",
       "       'LLA', 'LPR', 'MON', 'NEZ', 'SJA', 'TAH', 'TPN', 'HGM', 'SFE', 'UAX',\n",
       "       'CCA', 'AJM', 'INN', 'MGH', 'MPA', 'CUT', 'FAR', 'SAC', 'Variable',\n",
       "       'COY', 'GAM', 'AJU', 'LAA', 'LVI'],\n",
       "      dtype='object')"
      ]
     },
     "execution_count": 62,
     "metadata": {},
     "output_type": "execute_result"
    }
   ],
   "source": [
    "folder_path = \"data/clean_cdmx/\"\n",
    "\n",
    "df = join_csv_files(folder_path)\n",
    "df.columns"
   ]
  },
  {
   "cell_type": "code",
   "execution_count": 63,
   "metadata": {},
   "outputs": [],
   "source": [
    "df.to_csv('CDMX.csv', index=False)"
   ]
  },
  {
   "cell_type": "code",
   "execution_count": 64,
   "metadata": {},
   "outputs": [
    {
     "name": "stdout",
     "output_type": "stream",
     "text": [
      "        FECHA  HORA  LAG  TAC   FAC  TLA  XAL  MER  PED  CES  ...  MPA  CUT   \n",
      "0  2000-01-01     1  2.3  1.0 -99.0  3.7  6.2  2.8  1.6  2.6  ...  NaN  NaN  \\\n",
      "1  2000-01-01     2  2.3  2.0 -99.0  2.6  6.5  2.8  1.3  2.9  ...  NaN  NaN   \n",
      "2  2000-01-01     3  1.8  1.8 -99.0  3.1  6.3  2.9  1.4  3.1  ...  NaN  NaN   \n",
      "3  2000-01-01     4  2.3  1.7 -99.0  3.4  6.6  2.8  1.9  2.8  ...  NaN  NaN   \n",
      "4  2000-01-01     5  3.1  1.5 -99.0  3.6  9.7  3.4  1.8  3.5  ...  NaN  NaN   \n",
      "\n",
      "   FAR  SAC  Variable  COY  GAM  AJU  LAA  LVI  \n",
      "0  NaN  NaN        CO  NaN  NaN  NaN  NaN  NaN  \n",
      "1  NaN  NaN        CO  NaN  NaN  NaN  NaN  NaN  \n",
      "2  NaN  NaN        CO  NaN  NaN  NaN  NaN  NaN  \n",
      "3  NaN  NaN        CO  NaN  NaN  NaN  NaN  NaN  \n",
      "4  NaN  NaN        CO  NaN  NaN  NaN  NaN  NaN  \n",
      "\n",
      "[5 rows x 54 columns]\n"
     ]
    }
   ],
   "source": [
    "dfcd = pd.read_csv('./data/clean_cdmx/CDMX.csv')\n",
    "print(dfcd.head())"
   ]
  },
  {
   "cell_type": "code",
   "execution_count": 67,
   "metadata": {},
   "outputs": [
    {
     "data": {
      "text/plain": [
       "Index(['FECHA', 'HORA', 'LAG', 'TAC', 'FAC', 'TLA', 'XAL', 'MER', 'PED', 'CES',\n",
       "       'PLA', 'HAN', 'UIZ', 'ARA', 'IMP', 'BJU', 'TAX', 'MIN', 'TLI', 'ATI',\n",
       "       'VIF', 'SAG', 'VAL', 'AZC', 'SUR', 'IZT', 'CHO', 'ACO', 'CAM', 'CUA',\n",
       "       'LLA', 'LPR', 'MON', 'NEZ', 'SJA', 'TAH', 'TPN', 'HGM', 'SFE', 'UAX',\n",
       "       'CCA', 'AJM', 'INN', 'MGH', 'MPA', 'CUT', 'FAR', 'SAC', 'Variable',\n",
       "       'COY', 'GAM', 'AJU', 'LAA', 'LVI'],\n",
       "      dtype='object')"
      ]
     },
     "execution_count": 67,
     "metadata": {},
     "output_type": "execute_result"
    }
   ],
   "source": [
    "dfcd.columns"
   ]
  },
  {
   "cell_type": "code",
   "execution_count": 68,
   "metadata": {},
   "outputs": [],
   "source": [
    "unpivoted_df = pd.melt(dfcd, id_vars=['FECHA', 'HORA', 'Variable'], value_vars=['LAG', 'TAC', 'FAC', 'TLA', 'XAL', 'MER', 'PED', 'CES','PLA', 'HAN', 'UIZ', 'ARA', 'IMP', 'BJU', 'TAX', 'MIN', 'TLI', 'ATI','VIF', 'SAG', 'VAL', 'AZC', 'SUR', 'IZT', 'CHO', 'ACO', 'CAM', 'CUA','LLA', 'LPR', 'MON', 'NEZ', 'SJA', 'TAH', 'TPN', 'HGM', 'SFE', 'UAX','CCA', 'AJM', 'INN', 'MGH', 'MPA', 'CUT', 'FAR', 'SAC','COY', 'GAM', 'AJU', 'LAA', 'LVI'], var_name='location', value_name='value')"
   ]
  },
  {
   "cell_type": "code",
   "execution_count": 69,
   "metadata": {},
   "outputs": [
    {
     "data": {
      "text/plain": [
       "Index(['FECHA', 'HORA', 'Variable', 'location', 'value'], dtype='object')"
      ]
     },
     "execution_count": 69,
     "metadata": {},
     "output_type": "execute_result"
    }
   ],
   "source": [
    "unpivoted_df.columns"
   ]
  },
  {
   "cell_type": "code",
   "execution_count": 70,
   "metadata": {},
   "outputs": [
    {
     "data": {
      "text/html": [
       "<div>\n",
       "<style scoped>\n",
       "    .dataframe tbody tr th:only-of-type {\n",
       "        vertical-align: middle;\n",
       "    }\n",
       "\n",
       "    .dataframe tbody tr th {\n",
       "        vertical-align: top;\n",
       "    }\n",
       "\n",
       "    .dataframe thead th {\n",
       "        text-align: right;\n",
       "    }\n",
       "</style>\n",
       "<table border=\"1\" class=\"dataframe\">\n",
       "  <thead>\n",
       "    <tr style=\"text-align: right;\">\n",
       "      <th></th>\n",
       "      <th>FECHA</th>\n",
       "      <th>HORA</th>\n",
       "      <th>Variable</th>\n",
       "      <th>location</th>\n",
       "      <th>value</th>\n",
       "    </tr>\n",
       "  </thead>\n",
       "  <tbody>\n",
       "    <tr>\n",
       "      <th>0</th>\n",
       "      <td>2000-01-01</td>\n",
       "      <td>1</td>\n",
       "      <td>CO</td>\n",
       "      <td>LAG</td>\n",
       "      <td>2.3</td>\n",
       "    </tr>\n",
       "    <tr>\n",
       "      <th>1</th>\n",
       "      <td>2000-01-01</td>\n",
       "      <td>2</td>\n",
       "      <td>CO</td>\n",
       "      <td>LAG</td>\n",
       "      <td>2.3</td>\n",
       "    </tr>\n",
       "    <tr>\n",
       "      <th>2</th>\n",
       "      <td>2000-01-01</td>\n",
       "      <td>3</td>\n",
       "      <td>CO</td>\n",
       "      <td>LAG</td>\n",
       "      <td>1.8</td>\n",
       "    </tr>\n",
       "    <tr>\n",
       "      <th>3</th>\n",
       "      <td>2000-01-01</td>\n",
       "      <td>4</td>\n",
       "      <td>CO</td>\n",
       "      <td>LAG</td>\n",
       "      <td>2.3</td>\n",
       "    </tr>\n",
       "    <tr>\n",
       "      <th>4</th>\n",
       "      <td>2000-01-01</td>\n",
       "      <td>5</td>\n",
       "      <td>CO</td>\n",
       "      <td>LAG</td>\n",
       "      <td>3.1</td>\n",
       "    </tr>\n",
       "  </tbody>\n",
       "</table>\n",
       "</div>"
      ],
      "text/plain": [
       "        FECHA  HORA Variable location  value\n",
       "0  2000-01-01     1       CO      LAG    2.3\n",
       "1  2000-01-01     2       CO      LAG    2.3\n",
       "2  2000-01-01     3       CO      LAG    1.8\n",
       "3  2000-01-01     4       CO      LAG    2.3\n",
       "4  2000-01-01     5       CO      LAG    3.1"
      ]
     },
     "execution_count": 70,
     "metadata": {},
     "output_type": "execute_result"
    }
   ],
   "source": [
    "unpivoted_df.head()"
   ]
  },
  {
   "cell_type": "code",
   "execution_count": 71,
   "metadata": {},
   "outputs": [],
   "source": [
    "# pivot the dataframe\n",
    "df_pivot = unpivoted_df.pivot_table(index=['FECHA', 'HORA', 'location'], columns='Variable', values='value').reset_index()\n"
   ]
  },
  {
   "cell_type": "code",
   "execution_count": 74,
   "metadata": {},
   "outputs": [
    {
     "name": "stdout",
     "output_type": "stream",
     "text": [
      "Index(['FECHA', 'HORA', 'location', 'CO', 'NO2', 'O3', 'PM10'], dtype='object', name='Variable')\n",
      "Variable       FECHA  HORA location   CO   NO2   O3  PM10\n",
      "0         2000-01-01     1      ARA  5.3   NaN  NaN   NaN\n",
      "1         2000-01-01     1      ATI  1.5  20.0  NaN   NaN\n",
      "2         2000-01-01     1      AZC  3.5 -99.0  6.0   NaN\n",
      "3         2000-01-01     1      BJU  2.3  27.0  4.0   NaN\n",
      "4         2000-01-01     1      CES  2.6  56.0  8.0  69.0\n",
      "(5821008, 7)\n"
     ]
    }
   ],
   "source": [
    "print(df_pivot.columns)\n",
    "print(df_pivot.head())\n",
    "print(df_pivot.shape)"
   ]
  },
  {
   "cell_type": "code",
   "execution_count": 75,
   "metadata": {},
   "outputs": [],
   "source": [
    "df_pivot.to_csv('FULL_CDMX.csv', index=False)"
   ]
  }
 ],
 "metadata": {
  "kernelspec": {
   "display_name": "Python 3",
   "language": "python",
   "name": "python3"
  },
  "language_info": {
   "codemirror_mode": {
    "name": "ipython",
    "version": 3
   },
   "file_extension": ".py",
   "mimetype": "text/x-python",
   "name": "python",
   "nbconvert_exporter": "python",
   "pygments_lexer": "ipython3",
   "version": "3.10.11"
  },
  "orig_nbformat": 4
 },
 "nbformat": 4,
 "nbformat_minor": 2
}
