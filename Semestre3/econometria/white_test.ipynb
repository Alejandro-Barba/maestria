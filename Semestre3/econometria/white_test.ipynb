{
 "cells": [
  {
   "cell_type": "code",
   "execution_count": 1,
   "metadata": {},
   "outputs": [],
   "source": [
    "from sklearn.linear_model import LinearRegression\n",
    "from statsmodels.stats.diagnostic import het_white\n",
    "import statsmodels.api as sm\n",
    "import pandas as pd\n",
    "\n",
    "#define URL where dataset is located\n",
    "url = \"https://raw.githubusercontent.com/Statology/Python-Guides/main/mtcars.csv\"\n",
    "\n",
    "#read in data\n",
    "data = pd.read_csv(url)"
   ]
  },
  {
   "cell_type": "markdown",
   "metadata": {},
   "source": [
    "## FIT regresion model"
   ]
  },
  {
   "cell_type": "code",
   "execution_count": 2,
   "metadata": {},
   "outputs": [],
   "source": [
    "#define response variable\n",
    "y = data['mpg']\n",
    "\n",
    "#define predictor variables\n",
    "x = data[['disp', 'hp']]\n",
    "\n",
    "#add constant to predictor variables\n",
    "x = sm.add_constant(x)\n",
    "\n",
    "#fit regression model\n",
    "model = sm.OLS(y, x).fit()"
   ]
  },
  {
   "cell_type": "code",
   "execution_count": 3,
   "metadata": {},
   "outputs": [
    {
     "name": "stdout",
     "output_type": "stream",
     "text": [
      "{'Test Statistic': 7.076620330416613, 'Test Statistic p-value': 0.2150040439426402, 'F-Statistic': 1.4764621093131827, 'F-Test p-value': 0.23147065943879863}\n"
     ]
    }
   ],
   "source": [
    "#perform White's test\n",
    "white_test = het_white(model.resid,  model.model.exog)\n",
    "\n",
    "#define labels to use for output of White's test\n",
    "labels = ['Test Statistic', 'Test Statistic p-value', 'F-Statistic', 'F-Test p-value']\n",
    "\n",
    "#print results of White's test\n",
    "print(dict(zip(labels, white_test)))\n"
   ]
  },
  {
   "cell_type": "markdown",
   "metadata": {},
   "source": [
    "White’s test uses the following null and alternative hypotheses:\n",
    "\n",
    "Null (H0): Homoscedasticity is present (residuals are equally scattered)\n",
    "Alternative (HA): Heteroscedasticity is present (residuals are not equally scattered)\n",
    "\n",
    "if the p-value is not less than 0.05, we fail to reject the null hypothesis.\n",
    "This means we do not have sufficient evidence to say that heteroscedasticity is present in the regression model."
   ]
  }
 ],
 "metadata": {
  "kernelspec": {
   "display_name": "Python 3",
   "language": "python",
   "name": "python3"
  },
  "language_info": {
   "codemirror_mode": {
    "name": "ipython",
    "version": 3
   },
   "file_extension": ".py",
   "mimetype": "text/x-python",
   "name": "python",
   "nbconvert_exporter": "python",
   "pygments_lexer": "ipython3",
   "version": "3.11.2"
  },
  "orig_nbformat": 4
 },
 "nbformat": 4,
 "nbformat_minor": 2
}
