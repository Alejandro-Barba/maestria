{
 "cells": [
  {
   "cell_type": "markdown",
   "metadata": {},
   "source": [
    "# Modelos Arch y Garch\n",
    "\n",
    "## ARCH\n",
    "Cuando la varianza no es constante a lo largo del tiempo, mediante su modelado se puede ver como se comportaría la variable a lo largo del tiempo y con eso predecir.\n",
    "Se retoma máxima verosimilitud \n",
    "\n",
    "Las series pueden ser:\n",
    "* univariadas/multivariadas\n",
    "* estacionarias / no estacionarias\n",
    "* discretas / continuas\n",
    "\n",
    "Pero para algunas series se debe de tener especial atención a la volatilidad (varianza) \n",
    "\n",
    "### retorno\n",
    "\n",
    "El retorno se obtiene con la diferencia $(P_t - P_(t-1))/ (P_(t-1))$\n",
    "\n",
    "## ARCH\n",
    "*Proceso autoregresivo de heterocedasticidad condicional*\n",
    "\n",
    "Se trata de predecir a travéz del retorno cuadratico, se fundamentan en las autocorrelaciones parciales\n",
    "el modelo arch tiene p rezagos, \n",
    "\n",
    "¿Como se especifica el orden del modelo ? \n",
    "Con la función de autocorrelación parcial \n",
    "\n",
    "## GARCH\n",
    "*Generalized ARCH*\n",
    "\n",
    "Agrega una variable explicativa al modelo \n"
   ]
  },
  {
   "cell_type": "code",
   "execution_count": null,
   "metadata": {},
   "outputs": [],
   "source": []
  }
 ],
 "metadata": {
  "language_info": {
   "name": "python"
  }
 },
 "nbformat": 4,
 "nbformat_minor": 2
}
