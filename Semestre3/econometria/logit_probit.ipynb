{
 "cells": [
  {
   "cell_type": "code",
   "execution_count": 3,
   "metadata": {},
   "outputs": [
    {
     "name": "stdout",
     "output_type": "stream",
     "text": [
      "Optimization terminated successfully.\n",
      "         Current function value: 0.640305\n",
      "         Iterations 5\n",
      "                           Logit Regression Results                           \n",
      "==============================================================================\n",
      "Dep. Variable:                      Y   No. Observations:                24962\n",
      "Model:                          Logit   Df Residuals:                    24958\n",
      "Method:                           MLE   Df Model:                            3\n",
      "Date:                Mon, 18 Sep 2023   Pseudo R-squ.:                 0.04349\n",
      "Time:                        18:39:35   Log-Likelihood:                -15983.\n",
      "converged:                       True   LL-Null:                       -16710.\n",
      "Covariance Type:            nonrobust   LLR p-value:                     0.000\n",
      "==============================================================================\n",
      "                 coef    std err          z      P>|z|      [0.025      0.975]\n",
      "------------------------------------------------------------------------------\n",
      "const          0.1502      0.048      3.120      0.002       0.056       0.245\n",
      "X1             1.0045      0.027     36.743      0.000       0.951       1.058\n",
      "X2            -0.0074      0.001     -6.736      0.000      -0.010      -0.005\n",
      "X3            -0.0064      0.002     -4.279      0.000      -0.009      -0.003\n",
      "==============================================================================\n"
     ]
    }
   ],
   "source": [
    "# Modelo Logit\n",
    "\n",
    "import statsmodels.api as sm\n",
    "import pandas as pd\n",
    "\n",
    "series = pd.read_excel('./MAXVERO_base.xlsx', header=0, index_col=0)\n",
    "Y = series [['Y']]\n",
    "X = series [['X1', 'X2', 'X3']]\n",
    "XC = sm.add_constant(X)\n",
    "logit_mod = sm.Logit(Y, XC)\n",
    "logit_res = logit_mod.fit()\n",
    "print(logit_res.summary())"
   ]
  },
  {
   "cell_type": "code",
   "execution_count": null,
   "metadata": {},
   "outputs": [],
   "source": []
  }
 ],
 "metadata": {
  "kernelspec": {
   "display_name": "Python 3",
   "language": "python",
   "name": "python3"
  },
  "language_info": {
   "codemirror_mode": {
    "name": "ipython",
    "version": 3
   },
   "file_extension": ".py",
   "mimetype": "text/x-python",
   "name": "python",
   "nbconvert_exporter": "python",
   "pygments_lexer": "ipython3",
   "version": "3.11.2"
  },
  "orig_nbformat": 4
 },
 "nbformat": 4,
 "nbformat_minor": 2
}
