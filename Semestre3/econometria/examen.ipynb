{
 "cells": [
  {
   "cell_type": "code",
   "execution_count": 5,
   "metadata": {},
   "outputs": [],
   "source": [
    "import numpy as np\n",
    "import pandas as pd\n",
    "import statsmodels.api as sm\n",
    "from scipy import stats\n",
    "\n",
    "# Datos\n",
    "data = {\n",
    "    'Y': [1, 2, 3, 5, 6, 7, 8],\n",
    "    'X0': [1, 1, 1, 1, 1, 1, 1],\n",
    "    'X1': [5, 6, 8, 9, 11, 14, 15],\n",
    "    'X2': [3, 4, 10, 8, 13, 14, 20]\n",
    "}"
   ]
  },
  {
   "cell_type": "code",
   "execution_count": 10,
   "metadata": {},
   "outputs": [
    {
     "name": "stdout",
     "output_type": "stream",
     "text": [
      "                            OLS Regression Results                            \n",
      "==============================================================================\n",
      "Dep. Variable:                      Y   R-squared:                       0.959\n",
      "Model:                            OLS   Adj. R-squared:                  0.939\n",
      "Method:                 Least Squares   F-statistic:                     47.25\n",
      "Date:                Mon, 02 Oct 2023   Prob (F-statistic):            0.00165\n",
      "Time:                        19:52:39   Log-Likelihood:                -4.9664\n",
      "No. Observations:                   7   AIC:                             15.93\n",
      "Df Residuals:                       4   BIC:                             15.77\n",
      "Df Model:                           2                                         \n",
      "Covariance Type:            nonrobust                                         \n",
      "==============================================================================\n",
      "                 coef    std err          t      P>|t|      [0.025      0.975]\n",
      "------------------------------------------------------------------------------\n",
      "X0            -2.1078      0.963     -2.189      0.094      -4.781       0.566\n",
      "X1             0.7146      0.237      3.017      0.039       0.057       1.372\n",
      "X2            -0.0255      0.152     -0.168      0.874      -0.446       0.395\n",
      "==============================================================================\n",
      "Omnibus:                          nan   Durbin-Watson:                   1.907\n",
      "Prob(Omnibus):                    nan   Jarque-Bera (JB):                0.905\n",
      "Skew:                           0.739   Prob(JB):                        0.636\n",
      "Kurtosis:                       2.042   Cond. No.                         62.6\n",
      "==============================================================================\n",
      "\n",
      "Notes:\n",
      "[1] Standard Errors assume that the covariance matrix of the errors is correctly specified.\n"
     ]
    },
    {
     "name": "stderr",
     "output_type": "stream",
     "text": [
      "/Library/Frameworks/Python.framework/Versions/3.11/lib/python3.11/site-packages/statsmodels/stats/stattools.py:74: ValueWarning: omni_normtest is not valid with less than 8 observations; 7 samples were given.\n",
      "  warn(\"omni_normtest is not valid with less than 8 observations; %i \"\n"
     ]
    }
   ],
   "source": [
    "# Crear un DataFrame\n",
    "df = pd.DataFrame(data)\n",
    "\n",
    "# Definir las variables independientes (X) y la variable dependiente (Y)\n",
    "X = df[['X0', 'X1', 'X2']]\n",
    "Y = df['Y']\n",
    "\n",
    "# Añadir una constante a la matriz X (para el término constante b0)\n",
    "X = sm.add_constant(X)\n",
    "\n",
    "# Ajustar el modelo de regresión lineal\n",
    "modelo = sm.OLS(Y, X).fit()\n",
    "\n",
    "# Ver los resultados del modelo\n",
    "print(modelo.summary())\n"
   ]
  },
  {
   "cell_type": "code",
   "execution_count": 3,
   "metadata": {},
   "outputs": [
    {
     "name": "stdout",
     "output_type": "stream",
     "text": [
      "Varianza de los errores (sigma^2): 0.4234657680028377\n"
     ]
    }
   ],
   "source": [
    "varianza_errores = modelo.mse_resid\n",
    "print(\"Varianza de los errores (sigma^2):\", varianza_errores)"
   ]
  },
  {
   "cell_type": "code",
   "execution_count": 6,
   "metadata": {},
   "outputs": [
    {
     "name": "stdout",
     "output_type": "stream",
     "text": [
      "Los residuos siguen una distribución normal (p >= 0.05)\n",
      "Estadístico de Jarque-Bera: 0.9052254842075803\n",
      "Valor p: 0.635964368168483\n"
     ]
    }
   ],
   "source": [
    "# Obtener los residuos del modelo\n",
    "residuos = modelo.resid\n",
    "\n",
    "# Realizar la prueba de normalidad de Jarque-Bera\n",
    "jarque_bera_test = stats.jarque_bera(residuos)\n",
    "\n",
    "# Obtener el valor p de la prueba\n",
    "valor_p = jarque_bera_test[1]\n",
    "\n",
    "# Comprobar si los residuos siguen una distribución normal\n",
    "if valor_p < 0.05:\n",
    "    print(\"Los residuos no siguen una distribución normal (p < 0.05)\")\n",
    "else:\n",
    "    print(\"Los residuos siguen una distribución normal (p >= 0.05)\")\n",
    "\n",
    "# Imprimir el resultado de la prueba de Jarque-Bera\n",
    "print(\"Estadístico de Jarque-Bera:\", jarque_bera_test[0])\n",
    "print(\"Valor p:\", valor_p)"
   ]
  },
  {
   "cell_type": "code",
   "execution_count": 8,
   "metadata": {},
   "outputs": [
    {
     "data": {
      "text/plain": [
       "0   -0.388613\n",
       "1   -0.077687\n",
       "2   -0.353672\n",
       "3    0.880631\n",
       "4    0.579106\n",
       "5   -0.539198\n",
       "6   -0.100568\n",
       "dtype: float64"
      ]
     },
     "execution_count": 8,
     "metadata": {},
     "output_type": "execute_result"
    }
   ],
   "source": [
    "residuos"
   ]
  },
  {
   "cell_type": "code",
   "execution_count": 9,
   "metadata": {},
   "outputs": [
    {
     "name": "stdout",
     "output_type": "stream",
     "text": [
      "Asimetría: 1.3465123670668553e-50\n",
      "Kurtosis: 3.203419356128878e-67\n"
     ]
    }
   ],
   "source": [
    "# Calcular la media y la desviación estándar de los residuos\n",
    "media = np.mean(residuos)\n",
    "desviacion_estandar = np.std(residuos)\n",
    "\n",
    "# Calcular la asimetría\n",
    "asimetria = np.mean((residuos - media) / desviacion_estandar)**3\n",
    "\n",
    "# Calcular la kurtosis\n",
    "kurtosis = np.mean((residuos - media) / desviacion_estandar)**4\n",
    "\n",
    "print(\"Asimetría:\", asimetria)\n",
    "print(\"Kurtosis:\", kurtosis)"
   ]
  },
  {
   "cell_type": "code",
   "execution_count": 11,
   "metadata": {},
   "outputs": [
    {
     "name": "stdout",
     "output_type": "stream",
     "text": [
      "{'Test Statistic': 4.961072775901416, 'Test Statistic p-value': 0.42064939334247375, 'F-Statistic': 0.4866355912330043, 'F-Test p-value': 0.7888372833570271}\n"
     ]
    }
   ],
   "source": [
    "# test de white \n",
    "from statsmodels.stats.diagnostic import het_white\n",
    "\n",
    "#perform White's test\n",
    "white_test = het_white(modelo.resid,  modelo.model.exog)\n",
    "\n",
    "#define labels to use for output of White's test\n",
    "labels = ['Test Statistic', 'Test Statistic p-value', 'F-Statistic', 'F-Test p-value']\n",
    "\n",
    "#print results of White's test\n",
    "print(dict(zip(labels, white_test)))"
   ]
  },
  {
   "cell_type": "code",
   "execution_count": 12,
   "metadata": {},
   "outputs": [
    {
     "name": "stdout",
     "output_type": "stream",
     "text": [
      "Estadístico de Durbin-Watson: 1.9070402968636524\n"
     ]
    }
   ],
   "source": [
    "# prueba de autocorrelación\n",
    "\n",
    "# Calcular la prueba de Durbin-Watson\n",
    "n = len(residuos)\n",
    "numerator = np.sum(np.diff(residuos) ** 2)\n",
    "denominator = np.sum(residuos ** 2)\n",
    "dw_statistic = numerator / denominator\n",
    "\n",
    "# Mostrar el resultado de la prueba de Durbin-Watson\n",
    "print(\"Estadístico de Durbin-Watson:\", dw_statistic)"
   ]
  },
  {
   "cell_type": "code",
   "execution_count": 13,
   "metadata": {},
   "outputs": [
    {
     "data": {
      "text/plain": [
       "3.230265135694904"
      ]
     },
     "execution_count": 13,
     "metadata": {},
     "output_type": "execute_result"
    }
   ],
   "source": [
    "numerator"
   ]
  },
  {
   "cell_type": "code",
   "execution_count": 14,
   "metadata": {},
   "outputs": [
    {
     "data": {
      "text/plain": [
       "1.6938630720113503"
      ]
     },
     "execution_count": 14,
     "metadata": {},
     "output_type": "execute_result"
    }
   ],
   "source": [
    "denominator"
   ]
  }
 ],
 "metadata": {
  "kernelspec": {
   "display_name": "Python 3",
   "language": "python",
   "name": "python3"
  },
  "language_info": {
   "codemirror_mode": {
    "name": "ipython",
    "version": 3
   },
   "file_extension": ".py",
   "mimetype": "text/x-python",
   "name": "python",
   "nbconvert_exporter": "python",
   "pygments_lexer": "ipython3",
   "version": "3.11.2"
  },
  "orig_nbformat": 4
 },
 "nbformat": 4,
 "nbformat_minor": 2
}
