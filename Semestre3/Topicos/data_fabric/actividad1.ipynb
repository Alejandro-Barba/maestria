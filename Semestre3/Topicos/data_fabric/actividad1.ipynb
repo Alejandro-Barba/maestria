{
 "cells": [
  {
   "cell_type": "code",
   "execution_count": null,
   "metadata": {},
   "outputs": [],
   "source": [
    "import pandas as pd\n",
    "import json\n",
    "df1 = pd.read_csv('db1.csv')\n",
    "df2 = pd.read_csv('db2.csv')\n",
    "\n",
    "with open('file.json') as f:\n",
    "    dict = json.load(f)\n"
   ]
  },
  {
   "cell_type": "code",
   "execution_count": null,
   "metadata": {},
   "outputs": [],
   "source": [
    "# input con el nombre\n",
    "\n",
    "# Recorrer el diccionario trayendonos los datos a los que puede acceder cada usuario segun su nivel\n"
   ]
  }
 ],
 "metadata": {
  "language_info": {
   "name": "python"
  },
  "orig_nbformat": 4
 },
 "nbformat": 4,
 "nbformat_minor": 2
}
